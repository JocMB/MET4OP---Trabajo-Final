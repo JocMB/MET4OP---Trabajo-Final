{
 "cells": [
  {
   "cell_type": "code",
   "execution_count": 1,
   "id": "99da188a-c6ea-4e5c-90a1-bae96d46bad7",
   "metadata": {},
   "outputs": [
    {
     "name": "stderr",
     "output_type": "stream",
     "text": [
      "C:\\Users\\Angelo\\anaconda3\\envs\\M4OP\\lib\\site-packages\\scipy\\__init__.py:146: UserWarning: A NumPy version >=1.16.5 and <1.23.0 is required for this version of SciPy (detected version 1.23.1\n",
      "  warnings.warn(f\"A NumPy version >={np_minversion} and <{np_maxversion}\"\n"
     ]
    }
   ],
   "source": [
    "import pandas as pd, matplotlib.pyplot as plt, geopandas as gpd, contextily as ctx, numpy as np, seaborn as sns "
   ]
  },
  {
   "cell_type": "markdown",
   "id": "65d27884-45ed-4acf-b261-8538b7ef5b95",
   "metadata": {},
   "source": [
    "El siguiente informe pretende relevar los resultados de las ultimas primarias abiertas simultaneas y obligatorias (PASO)    haciendo especial énfasis en la campaña realizada por el candidato Hermes Winner. "
   ]
  },
  {
   "cell_type": "markdown",
   "id": "58b32094-5cd8-4466-a4b1-8ed09743ce3b",
   "metadata": {
    "jp-MarkdownHeadingCollapsed": true,
    "tags": []
   },
   "source": [
    "### Análisis de los resultados en las PASO"
   ]
  },
  {
   "cell_type": "code",
   "execution_count": null,
   "id": "981528c7-7bc1-445b-a31b-9bb8699e45c4",
   "metadata": {},
   "outputs": [],
   "source": []
  },
  {
   "cell_type": "markdown",
   "id": "a0a78fc6-e332-4cbf-ad2d-bdf97ae9b4b1",
   "metadata": {
    "tags": []
   },
   "source": [
    "### Nuestro electorado "
   ]
  },
  {
   "cell_type": "markdown",
   "id": "06a141c0-d0f3-4b2a-927d-6ab47406ea40",
   "metadata": {
    "jp-MarkdownHeadingCollapsed": true,
    "tags": []
   },
   "source": [
    "#### Sexo"
   ]
  },
  {
   "cell_type": "markdown",
   "id": "27c76ac7-ad3c-4353-bc37-7354a779776f",
   "metadata": {},
   "source": [
    "Hay un predominio de población femenina es los circuitos electorales, independientemente de si allí nos votan más o menos. Insertar algún gráfico/tabla. Falta el mapa. "
   ]
  },
  {
   "cell_type": "markdown",
   "id": "9acdd89b-c244-4717-905f-c0829872d268",
   "metadata": {
    "tags": []
   },
   "source": [
    "#### Nivel Educativo"
   ]
  },
  {
   "cell_type": "code",
   "execution_count": null,
   "id": "8a2a1413-bfa8-442c-b8ee-13e75a099a9e",
   "metadata": {},
   "outputs": [],
   "source": [
    "Faltan los mapas. "
   ]
  },
  {
   "cell_type": "markdown",
   "id": "7f52b8b0-1433-4845-adc6-26ca6b478a0b",
   "metadata": {
    "tags": []
   },
   "source": [
    "#### Condición de actividad"
   ]
  },
  {
   "cell_type": "code",
   "execution_count": null,
   "id": "e120aff9-ec90-4d05-bd10-9967991e6bbb",
   "metadata": {},
   "outputs": [],
   "source": [
    "Faltan los mapas. "
   ]
  },
  {
   "cell_type": "markdown",
   "id": "1b7aaaa5-62d2-433d-84de-601774561388",
   "metadata": {},
   "source": [
    "#### NBI"
   ]
  },
  {
   "cell_type": "code",
   "execution_count": null,
   "id": "3446204d-f55f-47a9-b221-a04b081abe77",
   "metadata": {},
   "outputs": [],
   "source": [
    "Faltan los mapas."
   ]
  },
  {
   "cell_type": "markdown",
   "id": "0abf48ca-ae91-4803-b432-6e853d4c1b3c",
   "metadata": {},
   "source": [
    "#### Celular"
   ]
  },
  {
   "cell_type": "markdown",
   "id": "58ae25e0-0e0a-4798-bd1d-cb11e3dde58e",
   "metadata": {},
   "source": [
    "#### Nacionalidad"
   ]
  },
  {
   "cell_type": "code",
   "execution_count": null,
   "id": "cbc4af31-5aef-4ed7-854b-69ae20ed2593",
   "metadata": {},
   "outputs": [],
   "source": [
    "En los circuitos donde más nos votan hay un porcentaje ligeramente mayor de extranjeros. "
   ]
  },
  {
   "cell_type": "markdown",
   "id": "f457cf31-066d-46be-9612-1ceee9d28c87",
   "metadata": {},
   "source": [
    "#### Hacinamiento"
   ]
  },
  {
   "cell_type": "code",
   "execution_count": null,
   "id": "540958c6-be2e-437b-868f-93bf4ffc1728",
   "metadata": {},
   "outputs": [],
   "source": [
    "En los circuitos donde más nos votan hay un porcentaje ligeramente mayor de hogares hacinados. "
   ]
  },
  {
   "cell_type": "markdown",
   "id": "28ac31b5-8915-46c6-8867-2562c012a5be",
   "metadata": {},
   "source": [
    "### Estrategia electoral"
   ]
  }
 ],
 "metadata": {
  "kernelspec": {
   "display_name": "Python 3 (ipykernel)",
   "language": "python",
   "name": "python3"
  },
  "language_info": {
   "codemirror_mode": {
    "name": "ipython",
    "version": 3
   },
   "file_extension": ".py",
   "mimetype": "text/x-python",
   "name": "python",
   "nbconvert_exporter": "python",
   "pygments_lexer": "ipython3",
   "version": "3.8.13"
  }
 },
 "nbformat": 4,
 "nbformat_minor": 5
}
